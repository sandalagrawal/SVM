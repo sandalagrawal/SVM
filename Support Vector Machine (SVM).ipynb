{
 "cells": [
  {
   "cell_type": "code",
   "execution_count": 1,
   "id": "7eef695b",
   "metadata": {},
   "outputs": [],
   "source": [
    "# to identify gender of a person using a SVM"
   ]
  },
  {
   "cell_type": "code",
   "execution_count": 2,
   "id": "f4c04210",
   "metadata": {},
   "outputs": [],
   "source": [
    "# Initial Step is to import the required libraries\n",
    "# import libraries\n",
    "import numpy as vsk_np\n",
    "\n",
    "# This is the SVM Classifies\n",
    "from sklearn.svm import SVC # Support Vector Classifier\n",
    "# sklearn is a package\n",
    "# svm is a library under sklearn\n",
    "# SVC is a class under svm library\n",
    "\n",
    "# We need to use Logistic Regression Library to compare our result with SVM\n",
    "# and check performance of both models becuase of both are classifiers\n",
    "from sklearn.linear_model import LogisticRegression\n",
    "\n",
    "# This library is used to provide the result as accuracy score\n",
    "# and also check the performance of the model\n",
    "from sklearn.metrics import accuracy_score"
   ]
  },
  {
   "cell_type": "code",
   "execution_count": 3,
   "id": "f36e390f",
   "metadata": {},
   "outputs": [],
   "source": [
    "# Step-1 Defining datasets using arrays\n",
    "# We have to use two features one for height and other one for weight\n",
    "\n",
    "# [height, weight]\n",
    "# X is an independent variable and y is dependent variable\n",
    "# because based on height & weight you will be determining the gender of a person\n",
    "X = [[181, 80], [177, 70], [160, 60], [154, 54], [166, 65], [190, 90], \n",
    "     [175, 64], [177, 70], [159, 55], [171, 75], [181, 85], [168, 75], \n",
    "     [168, 77]]\n",
    "\n",
    "# y is also having the data values in form of categorical (male and female) way\n",
    "y = ['male', 'male', 'female', 'female', 'male', 'male', 'female', 'female',\n",
    "     'female', 'male', 'male', 'female', 'female']"
   ]
  },
  {
   "cell_type": "code",
   "execution_count": 4,
   "id": "e78b1020",
   "metadata": {},
   "outputs": [
    {
     "data": {
      "text/plain": [
       "[[181, 80],\n",
       " [177, 70],\n",
       " [160, 60],\n",
       " [154, 54],\n",
       " [166, 65],\n",
       " [190, 90],\n",
       " [175, 64],\n",
       " [177, 70],\n",
       " [159, 55],\n",
       " [171, 75],\n",
       " [181, 85],\n",
       " [168, 75],\n",
       " [168, 77]]"
      ]
     },
     "execution_count": 4,
     "metadata": {},
     "output_type": "execute_result"
    }
   ],
   "source": [
    "X # features or values from independent variables"
   ]
  },
  {
   "cell_type": "code",
   "execution_count": 5,
   "id": "ebb57549",
   "metadata": {},
   "outputs": [
    {
     "data": {
      "text/plain": [
       "['male',\n",
       " 'male',\n",
       " 'female',\n",
       " 'female',\n",
       " 'male',\n",
       " 'male',\n",
       " 'female',\n",
       " 'female',\n",
       " 'female',\n",
       " 'male',\n",
       " 'male',\n",
       " 'female',\n",
       " 'female']"
      ]
     },
     "execution_count": 5,
     "metadata": {},
     "output_type": "execute_result"
    }
   ],
   "source": [
    "y"
   ]
  },
  {
   "cell_type": "code",
   "execution_count": 6,
   "id": "240328ea",
   "metadata": {},
   "outputs": [],
   "source": [
    "# Step-2 Spliting dataset into Training and Testing datasets\n",
    "\n",
    "# We are getting the training data and testing data\n",
    "# Import library for splitting the dataset into train and test.\n",
    "from sklearn.model_selection import train_test_split\n",
    "\n",
    "#Using the train_test_split to create train and test sets.\n",
    "X_train, X_test, y_train, y_test = train_test_split(X, y, random_state = 10, test_size = 0.40)"
   ]
  },
  {
   "cell_type": "code",
   "execution_count": 7,
   "id": "6f911b0e",
   "metadata": {},
   "outputs": [
    {
     "name": "stdout",
     "output_type": "stream",
     "text": [
      "[[168, 77], [190, 90], [181, 85], [177, 70], [181, 80], [166, 65], [171, 75]]\n"
     ]
    }
   ],
   "source": [
    "print(X_train) # Training datasets "
   ]
  },
  {
   "cell_type": "code",
   "execution_count": 8,
   "id": "94cfb002",
   "metadata": {},
   "outputs": [
    {
     "name": "stdout",
     "output_type": "stream",
     "text": [
      "['female', 'male', 'male', 'male', 'male', 'male', 'male']\n"
     ]
    }
   ],
   "source": [
    "print (y_train)"
   ]
  },
  {
   "cell_type": "code",
   "execution_count": 9,
   "id": "15881015",
   "metadata": {},
   "outputs": [
    {
     "name": "stdout",
     "output_type": "stream",
     "text": [
      "[[154, 54], [177, 70], [168, 75], [175, 64], [159, 55], [160, 60]]\n"
     ]
    }
   ],
   "source": [
    "print (X_test)"
   ]
  },
  {
   "cell_type": "code",
   "execution_count": 10,
   "id": "b8e40610",
   "metadata": {},
   "outputs": [
    {
     "name": "stdout",
     "output_type": "stream",
     "text": [
      "['female', 'female', 'female', 'female', 'female', 'female']\n"
     ]
    }
   ],
   "source": [
    "print (y_test)"
   ]
  },
  {
   "cell_type": "code",
   "execution_count": 11,
   "id": "f0f20f79",
   "metadata": {},
   "outputs": [
    {
     "name": "stdout",
     "output_type": "stream",
     "text": [
      "Now SVM model is fit using training dataset.\n"
     ]
    }
   ],
   "source": [
    "# Now we have two models for comparing between SVM and Logistic Regression\n",
    "# Next step will be to build the models\n",
    "\n",
    "#Step 3: Building the model using Support Vector Machine\n",
    "#Support Vector Classifier\n",
    "\n",
    "from sklearn.svm import SVC #importing SVM classifier\n",
    "svm_clf = SVC() #Creating dynamic object for SVC class \n",
    "# we are creating object of the SVC class to access the various methods \n",
    "# of the SVC class\n",
    "\n",
    "# Fit the model as per the training dataset\n",
    "svm_clf.fit(X_train,y_train)\n",
    "\n",
    "print (\"Now SVM model is fit using training dataset.\")"
   ]
  },
  {
   "cell_type": "code",
   "execution_count": 12,
   "id": "19699056",
   "metadata": {},
   "outputs": [
    {
     "name": "stdout",
     "output_type": "stream",
     "text": [
      "Now Logistic Regression model is fit using training dataset.\n"
     ]
    }
   ],
   "source": [
    "# Here we are building the logistic regression model\n",
    "# Building the model using Logistic Regression class\n",
    "from sklearn.linear_model import LogisticRegression\n",
    "\n",
    "# we need to create an object to access the methods for logistic regression.\n",
    "log_clf = LogisticRegression()\n",
    "\n",
    "# Fitting the model as per training dataset\n",
    "log_clf.fit(X_train,y_train)\n",
    "\n",
    "print (\"Now Logistic Regression model is fit using training dataset.\")"
   ]
  },
  {
   "cell_type": "code",
   "execution_count": 13,
   "id": "6f9a6d43",
   "metadata": {},
   "outputs": [],
   "source": [
    "# 1. imported libraries\n",
    "# 2. Prepared the dataset\n",
    "# 3. Split the dataset into Training and Testing datasets \n",
    "# 4. Built the models (SVM and Logistic Regression)"
   ]
  },
  {
   "cell_type": "code",
   "execution_count": 14,
   "id": "afdae15d",
   "metadata": {},
   "outputs": [],
   "source": [
    "# Step 4: To Predict the model by testing dataset\n",
    "# By using predict method we can predict the model as per testing dataset\n",
    "\n",
    "#prediction\n",
    "# we need to use features or values from independent variables\n",
    "# data from testing dataset\n",
    "y_pred_svm = svm_clf.predict(X_test)  \n",
    "# X_test contains the features on which we are predicting \n",
    "\n",
    "y_pred_log = log_clf.predict(X_test)\n",
    "#Prediting the model by testing data"
   ]
  },
  {
   "cell_type": "code",
   "execution_count": 15,
   "id": "5a102b99",
   "metadata": {},
   "outputs": [
    {
     "name": "stdout",
     "output_type": "stream",
     "text": [
      "Actual Values: ['female', 'female', 'female', 'female', 'female', 'female']\n",
      "Predicted by SVM: ['male' 'male' 'male' 'male' 'male' 'male']\n",
      "Predicted by Logistic Regression: ['male' 'male' 'female' 'male' 'male' 'male']\n"
     ]
    }
   ],
   "source": [
    "print (\"Actual Values:\", y_test) # actual testing dataset\n",
    "print (\"Predicted by SVM:\", y_pred_svm) # predicted testing dataset for SVM\n",
    "print (\"Predicted by Logistic Regression:\", y_pred_log) # predicted testing dataset for Logistic regression\n",
    "\n",
    "# From the displayed values you can observe that logistic regression for this\n",
    "# problem is better"
   ]
  },
  {
   "cell_type": "code",
   "execution_count": 16,
   "id": "89edc56c",
   "metadata": {},
   "outputs": [
    {
     "name": "stdout",
     "output_type": "stream",
     "text": [
      "Predicted Gender of a person by Logistic Regression Model : ['female']\n",
      "Predicted Gender of a person by SVM Model :  ['male']\n"
     ]
    }
   ],
   "source": [
    "# Step: 5 predicting a new value from dataset or newly inputted value\n",
    "\n",
    "y_pred_svm_new = svm_clf.predict([[157, 100]]) \n",
    "\n",
    "y_pred_log_new = log_clf.predict([[157, 100]])\n",
    "\n",
    "# print the predicted gender\n",
    "print(\"Predicted Gender of a person by Logistic Regression Model :\", y_pred_log_new)\n",
    "print(\"Predicted Gender of a person by SVM Model : \", y_pred_svm_new)\n"
   ]
  },
  {
   "cell_type": "code",
   "execution_count": 17,
   "id": "dde5f761",
   "metadata": {},
   "outputs": [
    {
     "name": "stdout",
     "output_type": "stream",
     "text": [
      "Accuracy of Logistic Regression Model in %: 16.666666666666664\n",
      "Accuracy of Support Vector Machine Model in %: 0.0\n"
     ]
    }
   ],
   "source": [
    "# Step 6: Model Evaluation\n",
    "\n",
    "# When we need to calculate the accuracy of the model under classification \n",
    "# always use testing dataset to get the result\n",
    "\n",
    "# we are measuring the performance of the model by accuracy score\n",
    "from sklearn.metrics import accuracy_score\n",
    "\n",
    "#accuracy scores\n",
    "log_acc = accuracy_score(y_pred_log, y_test) #(prediction value , actual value)\n",
    "svm_acc = accuracy_score(y_pred_svm, y_test)\n",
    "\n",
    "print (\"Accuracy of Logistic Regression Model in %:\",log_acc*100)\n",
    "print(\"Accuracy of Support Vector Machine Model in %:\",svm_acc*100)"
   ]
  },
  {
   "cell_type": "code",
   "execution_count": 18,
   "id": "e4a920ec",
   "metadata": {},
   "outputs": [],
   "source": [
    "# The main drawback of the SVM is that when we have small or limited amount\n",
    "# of datasets, it may not provide better result."
   ]
  },
  {
   "cell_type": "code",
   "execution_count": 19,
   "id": "f4cbe8a4",
   "metadata": {},
   "outputs": [
    {
     "name": "stdout",
     "output_type": "stream",
     "text": [
      "              precision    recall  f1-score   support\n",
      "\n",
      "      female       1.00      0.17      0.29         6\n",
      "        male       0.00      0.00      0.00         0\n",
      "\n",
      "    accuracy                           0.17         6\n",
      "   macro avg       0.50      0.08      0.14         6\n",
      "weighted avg       1.00      0.17      0.29         6\n",
      "\n",
      "              precision    recall  f1-score   support\n",
      "\n",
      "      female       0.00      0.00      0.00       6.0\n",
      "        male       0.00      0.00      0.00       0.0\n",
      "\n",
      "    accuracy                           0.00       6.0\n",
      "   macro avg       0.00      0.00      0.00       6.0\n",
      "weighted avg       0.00      0.00      0.00       6.0\n",
      "\n"
     ]
    },
    {
     "name": "stderr",
     "output_type": "stream",
     "text": [
      "C:\\Users\\lenovo\\AppData\\Local\\Programs\\Python\\Python310\\lib\\site-packages\\sklearn\\metrics\\_classification.py:1334: UndefinedMetricWarning: Recall and F-score are ill-defined and being set to 0.0 in labels with no true samples. Use `zero_division` parameter to control this behavior.\n",
      "  _warn_prf(average, modifier, msg_start, len(result))\n",
      "C:\\Users\\lenovo\\AppData\\Local\\Programs\\Python\\Python310\\lib\\site-packages\\sklearn\\metrics\\_classification.py:1334: UndefinedMetricWarning: Recall and F-score are ill-defined and being set to 0.0 in labels with no true samples. Use `zero_division` parameter to control this behavior.\n",
      "  _warn_prf(average, modifier, msg_start, len(result))\n",
      "C:\\Users\\lenovo\\AppData\\Local\\Programs\\Python\\Python310\\lib\\site-packages\\sklearn\\metrics\\_classification.py:1334: UndefinedMetricWarning: Recall and F-score are ill-defined and being set to 0.0 in labels with no true samples. Use `zero_division` parameter to control this behavior.\n",
      "  _warn_prf(average, modifier, msg_start, len(result))\n",
      "C:\\Users\\lenovo\\AppData\\Local\\Programs\\Python\\Python310\\lib\\site-packages\\sklearn\\metrics\\_classification.py:1334: UndefinedMetricWarning: Precision and F-score are ill-defined and being set to 0.0 in labels with no predicted samples. Use `zero_division` parameter to control this behavior.\n",
      "  _warn_prf(average, modifier, msg_start, len(result))\n",
      "C:\\Users\\lenovo\\AppData\\Local\\Programs\\Python\\Python310\\lib\\site-packages\\sklearn\\metrics\\_classification.py:1334: UndefinedMetricWarning: Recall and F-score are ill-defined and being set to 0.0 in labels with no true samples. Use `zero_division` parameter to control this behavior.\n",
      "  _warn_prf(average, modifier, msg_start, len(result))\n",
      "C:\\Users\\lenovo\\AppData\\Local\\Programs\\Python\\Python310\\lib\\site-packages\\sklearn\\metrics\\_classification.py:1334: UndefinedMetricWarning: Precision and F-score are ill-defined and being set to 0.0 in labels with no predicted samples. Use `zero_division` parameter to control this behavior.\n",
      "  _warn_prf(average, modifier, msg_start, len(result))\n",
      "C:\\Users\\lenovo\\AppData\\Local\\Programs\\Python\\Python310\\lib\\site-packages\\sklearn\\metrics\\_classification.py:1334: UndefinedMetricWarning: Recall and F-score are ill-defined and being set to 0.0 in labels with no true samples. Use `zero_division` parameter to control this behavior.\n",
      "  _warn_prf(average, modifier, msg_start, len(result))\n",
      "C:\\Users\\lenovo\\AppData\\Local\\Programs\\Python\\Python310\\lib\\site-packages\\sklearn\\metrics\\_classification.py:1334: UndefinedMetricWarning: Precision and F-score are ill-defined and being set to 0.0 in labels with no predicted samples. Use `zero_division` parameter to control this behavior.\n",
      "  _warn_prf(average, modifier, msg_start, len(result))\n",
      "C:\\Users\\lenovo\\AppData\\Local\\Programs\\Python\\Python310\\lib\\site-packages\\sklearn\\metrics\\_classification.py:1334: UndefinedMetricWarning: Recall and F-score are ill-defined and being set to 0.0 in labels with no true samples. Use `zero_division` parameter to control this behavior.\n",
      "  _warn_prf(average, modifier, msg_start, len(result))\n"
     ]
    }
   ],
   "source": [
    "# You want to print the classification report of the classification models\n",
    "# use classification_report method from metrics library\n",
    "\n",
    "from sklearn import metrics\n",
    "\n",
    "print(metrics.classification_report(y_test, y_pred_log))\n",
    "print(metrics.classification_report(y_test, y_pred_svm))\n"
   ]
  },
  {
   "cell_type": "code",
   "execution_count": 20,
   "id": "c9eef2cd",
   "metadata": {},
   "outputs": [
    {
     "name": "stdout",
     "output_type": "stream",
     "text": [
      "Logistic Regression is the better classifier for this problem\n"
     ]
    }
   ],
   "source": [
    "classifiers = ['Logistic Regression' , 'SVC']\n",
    "accuracy = vsk_np.array([log_acc, svm_acc])\n",
    "\n",
    "# argmax is methos which returns the maximum value from the array's values\n",
    "max_acc = vsk_np.argmax(accuracy)\n",
    "\n",
    "print(classifiers[max_acc] + ' is the better classifier for this problem')"
   ]
  },
  {
   "cell_type": "code",
   "execution_count": null,
   "id": "8077746f",
   "metadata": {},
   "outputs": [],
   "source": []
  }
 ],
 "metadata": {
  "kernelspec": {
   "display_name": "Python 3 (ipykernel)",
   "language": "python",
   "name": "python3"
  },
  "language_info": {
   "codemirror_mode": {
    "name": "ipython",
    "version": 3
   },
   "file_extension": ".py",
   "mimetype": "text/x-python",
   "name": "python",
   "nbconvert_exporter": "python",
   "pygments_lexer": "ipython3",
   "version": "3.10.7"
  }
 },
 "nbformat": 4,
 "nbformat_minor": 5
}
